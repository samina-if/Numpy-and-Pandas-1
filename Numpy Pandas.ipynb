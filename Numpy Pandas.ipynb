import pandas as pd
import numpy as np
import os

def celsius_fahrenheit(c):
    return (c * 9 / 5) + 32

def celsius_kelvin(c):
    return c + 273.15

def user_name(name):
    name = input("Enter user Name: ")
    return name

def main():
    # Create an empty DataFrame to store all user data
    all_data = pd.DataFrame(columns=["user_name", "temperature_Values", "Kelvin_Temperature"])

    while True:  # infinite loop to allow multiple conversions
        print(''' ---Temperature Conversion system-----
        ---Enter '1' to Convert Celsius to Fahrenheit
        ---Enter '2' to Convert Celsius to Kelvin
        ---Enter '3' to show data
        ---Enter '4' to Exit ''')

        choose = input("Enter option: ")

        if choose == "1":
            name = ""
            name_record = user_name(name)
            temp = input("Enter temperature value in Celsius: ")
            c_array = np.array([float(value) for value in temp.split(",")])
            f_array = celsius_fahrenheit(c_array)
            print(f"The temperature in Fahrenheit is: {f_array} & {name_record} entered input for conversion")

            # Prepare data for DataFrame
            dic = {"user_name": name_record, "temperature_Values": f_array}
            df = pd.DataFrame(dic)
            # all_data.append(df) = pd.concat(all_data, ignore_index=True)
            # append the new row to the original DataFrame

            all_data= pd.concat([all_data, df], ignore_index=True)     # Save all data to Excel
            all_data.to_excel("temp.xlsx", index=False)

        elif choose == "2":
            name = ""
            name_record = user_name(name)
            temp = input("Enter temperature value in Celsius: ")
            c_array = np.array([float(value) for value in temp.split(",")])
            k_array = celsius_kelvin(c_array)
            print(f"The temperature in Kelvin is: {k_array} & {name_record} entered input for conversion")

            # Prepare data for DataFrame
            dic1 = {"user_name": name_record, "Kelvin_Temperature": k_array}
            df1 = pd.DataFrame(dic1)
            all_data = pd.concat([all_data, df1], ignore_index=True)

            # Save all data to Excel
            all_data.to_excel("temp.xlsx", index=False)

        elif choose == "3":
            # Read the Excel file and display the data

            with pd.option_context('display.max_rows', None,):
              df2 = pd.read_excel('temp.xlsx')
              print(df2)
        elif choose == "4":
            print("Exiting the program.")
            break
        else:
            print("Invalid option. Please try again.")

main()